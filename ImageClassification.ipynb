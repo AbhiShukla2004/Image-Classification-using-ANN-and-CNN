{
 "cells": [
  {
   "cell_type": "code",
   "execution_count": 1,
   "id": "e5f030de",
   "metadata": {},
   "outputs": [],
   "source": [
    "import tensorflow as tf\n",
    "from tensorflow.keras import layers, models\n",
    "import numpy as np\n",
    "import matplotlib.pyplot as plt\n"
   ]
  },
  {
   "cell_type": "code",
   "execution_count": 10,
   "id": "856a22b3",
   "metadata": {},
   "outputs": [],
   "source": [
    "from tensorflow.keras.datasets import cifar10\n",
    "\n"
   ]
  },
  {
   "cell_type": "code",
   "execution_count": null,
   "id": "bdeac7f4",
   "metadata": {},
   "outputs": [
    {
     "data": {
      "text/plain": [
       "(50000, 32, 32, 3)"
      ]
     },
     "execution_count": 13,
     "metadata": {},
     "output_type": "execute_result"
    }
   ],
   "source": [
    "(X_train, y_train),(X_test, y_test) = cifar10.load_data()  #Load dataset\n",
    "X_train.shape #Size of training dataset"
   ]
  },
  {
   "cell_type": "code",
   "execution_count": null,
   "id": "c37460ce",
   "metadata": {},
   "outputs": [
    {
     "data": {
      "text/plain": [
       "(10000, 32, 32, 3)"
      ]
     },
     "execution_count": 14,
     "metadata": {},
     "output_type": "execute_result"
    }
   ],
   "source": [
    "X_test.shape #Size of test dataset"
   ]
  },
  {
   "cell_type": "code",
   "execution_count": 15,
   "id": "4c37e9b5",
   "metadata": {},
   "outputs": [
    {
     "data": {
      "text/plain": [
       "array([[[ 59,  62,  63],\n",
       "        [ 43,  46,  45],\n",
       "        [ 50,  48,  43],\n",
       "        ...,\n",
       "        [158, 132, 108],\n",
       "        [152, 125, 102],\n",
       "        [148, 124, 103]],\n",
       "\n",
       "       [[ 16,  20,  20],\n",
       "        [  0,   0,   0],\n",
       "        [ 18,   8,   0],\n",
       "        ...,\n",
       "        [123,  88,  55],\n",
       "        [119,  83,  50],\n",
       "        [122,  87,  57]],\n",
       "\n",
       "       [[ 25,  24,  21],\n",
       "        [ 16,   7,   0],\n",
       "        [ 49,  27,   8],\n",
       "        ...,\n",
       "        [118,  84,  50],\n",
       "        [120,  84,  50],\n",
       "        [109,  73,  42]],\n",
       "\n",
       "       ...,\n",
       "\n",
       "       [[208, 170,  96],\n",
       "        [201, 153,  34],\n",
       "        [198, 161,  26],\n",
       "        ...,\n",
       "        [160, 133,  70],\n",
       "        [ 56,  31,   7],\n",
       "        [ 53,  34,  20]],\n",
       "\n",
       "       [[180, 139,  96],\n",
       "        [173, 123,  42],\n",
       "        [186, 144,  30],\n",
       "        ...,\n",
       "        [184, 148,  94],\n",
       "        [ 97,  62,  34],\n",
       "        [ 83,  53,  34]],\n",
       "\n",
       "       [[177, 144, 116],\n",
       "        [168, 129,  94],\n",
       "        [179, 142,  87],\n",
       "        ...,\n",
       "        [216, 184, 140],\n",
       "        [151, 118,  84],\n",
       "        [123,  92,  72]]], dtype=uint8)"
      ]
     },
     "execution_count": 15,
     "metadata": {},
     "output_type": "execute_result"
    }
   ],
   "source": [
    "X_train[0]"
   ]
  },
  {
   "cell_type": "code",
   "execution_count": null,
   "id": "837f942b",
   "metadata": {},
   "outputs": [
    {
     "data": {
      "text/plain": [
       "array([[6],\n",
       "       [9],\n",
       "       [9],\n",
       "       [4],\n",
       "       [1]], dtype=uint8)"
      ]
     },
     "execution_count": 21,
     "metadata": {},
     "output_type": "execute_result"
    }
   ],
   "source": [
    "y_train[:5] #First 5 labels of training dataset"
   ]
  },
  {
   "cell_type": "code",
   "execution_count": 23,
   "id": "409ce94d",
   "metadata": {},
   "outputs": [
    {
     "data": {
      "text/plain": [
       "array([6, 9, 9, 4, 1], dtype=uint8)"
      ]
     },
     "execution_count": 23,
     "metadata": {},
     "output_type": "execute_result"
    }
   ],
   "source": [
    "y_train = y_train.reshape(-1,) #Reshape labels to 1D array\n",
    "y_train[:5] #First 5 labels of training dataset after reshaping"
   ]
  },
  {
   "cell_type": "code",
   "execution_count": 24,
   "id": "59292d11",
   "metadata": {},
   "outputs": [],
   "source": [
    "classes = ['airplane','automobile','bird','cat','deer','dog','frog','horse','ship','truck']"
   ]
  },
  {
   "cell_type": "code",
   "execution_count": 28,
   "id": "cbb26145",
   "metadata": {},
   "outputs": [
    {
     "data": {
      "text/plain": [
       "'automobile'"
      ]
     },
     "execution_count": 28,
     "metadata": {},
     "output_type": "execute_result"
    }
   ],
   "source": [
    "classes[1]"
   ]
  },
  {
   "cell_type": "code",
   "execution_count": 26,
   "id": "e8e200fd",
   "metadata": {},
   "outputs": [],
   "source": [
    "def plot_sample(index):\n",
    " plt.imshow(X_train[index]) #Display the image in the train dataset\n",
    " plt.xlabel(classes[y_train[index]]) #Display the label of the image"
   ]
  },
  {
   "cell_type": "code",
   "execution_count": 27,
   "id": "286c9b01",
   "metadata": {},
   "outputs": [
    {
     "data": {
      "image/png": "[encoded data removed]",
      "text/plain": [
       "<Figure size 640x480 with 1 Axes>"
      ]
     },
     "metadata": {},
     "output_type": "display_data"
    }
   ],
   "source": [
    "plot_sample(0) "
   ]
  },
  {
   "cell_type": "code",
   "execution_count": null,
   "id": "61d6015c",
   "metadata": {},
   "outputs": [],
   "source": [
    "X_train = X_train/255 #Normalisation\n",
    "X_test = X_test/255"
   ]
  },
  {
   "cell_type": "markdown",
   "id": "2c981f04",
   "metadata": {},
   "source": [
    "ANN for Image Classification\n"
   ]
  },
  {
   "cell_type": "code",
   "execution_count": 31,
   "id": "7915a976",
   "metadata": {},
   "outputs": [
    {
     "name": "stdout",
     "output_type": "stream",
     "text": [
      "Epoch 1/5\n",
      "\u001b[1m1563/1563\u001b[0m \u001b[32m━━━━━━━━━━━━━━━━━━━━\u001b[0m\u001b[37m\u001b[0m \u001b[1m141s\u001b[0m 90ms/step - accuracy: 0.3278 - loss: 1.8903\n",
      "Epoch 2/5\n",
      "\u001b[1m1563/1563\u001b[0m \u001b[32m━━━━━━━━━━━━━━━━━━━━\u001b[0m\u001b[37m\u001b[0m \u001b[1m136s\u001b[0m 87ms/step - accuracy: 0.4013 - loss: 1.6705\n",
      "Epoch 3/5\n",
      "\u001b[1m1563/1563\u001b[0m \u001b[32m━━━━━━━━━━━━━━━━━━━━\u001b[0m\u001b[37m\u001b[0m \u001b[1m137s\u001b[0m 88ms/step - accuracy: 0.4275 - loss: 1.5916\n",
      "Epoch 4/5\n",
      "\u001b[1m1563/1563\u001b[0m \u001b[32m━━━━━━━━━━━━━━━━━━━━\u001b[0m\u001b[37m\u001b[0m \u001b[1m138s\u001b[0m 88ms/step - accuracy: 0.4484 - loss: 1.5429\n",
      "Epoch 5/5\n",
      "\u001b[1m1563/1563\u001b[0m \u001b[32m━━━━━━━━━━━━━━━━━━━━\u001b[0m\u001b[37m\u001b[0m \u001b[1m139s\u001b[0m 89ms/step - accuracy: 0.4647 - loss: 1.4992\n"
     ]
    },
    {
     "data": {
      "text/plain": [
       "<keras.src.callbacks.history.History at 0x2094f8f74a0>"
      ]
     },
     "execution_count": 31,
     "metadata": {},
     "output_type": "execute_result"
    }
   ],
   "source": [
    "ann = models.Sequential([\n",
    "    layers.Flatten(input_shape=(32,32,3)), #Input layer with image size 32x32 and 3 channels\n",
    "    layers.Dense(3000, activation='relu'), #Hidden layer with 3000 neurons\n",
    "    layers.Dense(1000, activation='relu'), #Hidden layer with 1000 neurons\n",
    "    layers.Dense(10, activation='sigmoid') #Output layer with 10 neurons for 10 classes\n",
    "])\n",
    "ann.compile(optimizer='adam',\n",
    "            loss='sparse_categorical_crossentropy',\n",
    "            metrics=['accuracy']) #Compile the model with Adam optimizer and sparse categorical crossentropy loss function\n",
    "\n",
    "ann.fit(X_train, y_train, epochs=5) #Model training"
   ]
  },
  {
   "cell_type": "code",
   "execution_count": 32,
   "id": "80b8d8a2",
   "metadata": {},
   "outputs": [
    {
     "name": "stdout",
     "output_type": "stream",
     "text": [
      "\u001b[1m313/313\u001b[0m \u001b[32m━━━━━━━━━━━━━━━━━━━━\u001b[0m\u001b[37m\u001b[0m \u001b[1m2s\u001b[0m 6ms/step - accuracy: 0.4684 - loss: 1.5125\n"
     ]
    },
    {
     "data": {
      "text/plain": [
       "[1.5125254392623901, 0.4684000015258789]"
      ]
     },
     "execution_count": 32,
     "metadata": {},
     "output_type": "execute_result"
    }
   ],
   "source": [
    "ann.evaluate(X_test, y_test) #Model evaluation on test dataset"
   ]
  },
  {
   "cell_type": "code",
   "execution_count": 35,
   "id": "df12832e",
   "metadata": {},
   "outputs": [
    {
     "name": "stdout",
     "output_type": "stream",
     "text": [
      "\u001b[1m313/313\u001b[0m \u001b[32m━━━━━━━━━━━━━━━━━━━━\u001b[0m\u001b[37m\u001b[0m \u001b[1m2s\u001b[0m 6ms/step\n",
      "Classification Report: \n",
      "               precision    recall  f1-score   support\n",
      "\n",
      "           0       0.53      0.50      0.52      1000\n",
      "           1       0.63      0.52      0.57      1000\n",
      "           2       0.37      0.28      0.32      1000\n",
      "           3       0.31      0.39      0.35      1000\n",
      "           4       0.38      0.44      0.41      1000\n",
      "           5       0.45      0.26      0.33      1000\n",
      "           6       0.47      0.54      0.50      1000\n",
      "           7       0.55      0.53      0.54      1000\n",
      "           8       0.54      0.63      0.58      1000\n",
      "           9       0.48      0.61      0.54      1000\n",
      "\n",
      "    accuracy                           0.47     10000\n",
      "   macro avg       0.47      0.47      0.46     10000\n",
      "weighted avg       0.47      0.47      0.46     10000\n",
      "\n"
     ]
    }
   ],
   "source": [
    "from sklearn.metrics import confusion_matrix , classification_report\n",
    "import numpy as np\n",
    "y_pred = ann.predict(X_test) #Predict the labels for test dataset\n",
    "y_pred_classes = [np.argmax(element) for element in y_pred] #Convert predictions to class labels\n",
    "print(\"Classification Report: \\n\", classification_report(y_test, y_pred_classes)) #Print classification report"
   ]
  },
  {
   "cell_type": "markdown",
   "id": "3fc416df",
   "metadata": {},
   "source": [
    "CNN for Image Classification\n"
   ]
  },
  {
   "cell_type": "code",
   "execution_count": 36,
   "id": "e0a92046",
   "metadata": {},
   "outputs": [
    {
     "name": "stderr",
     "output_type": "stream",
     "text": [
      "f:\\Anaconda\\Lib\\site-packages\\keras\\src\\layers\\convolutional\\base_conv.py:113: UserWarning: Do not pass an `input_shape`/`input_dim` argument to a layer. When using Sequential models, prefer using an `Input(shape)` object as the first layer in the model instead.\n",
      "  super().__init__(activity_regularizer=activity_regularizer, **kwargs)\n"
     ]
    }
   ],
   "source": [
    "cnn = models.Sequential([\n",
    "    #cnn\n",
    "    layers.Conv2D(filters=32, kernel_size=(3,3), activation='relu', input_shape=(32,32,3)), #First convolutional layer with 32 filters and kernel size 3x3\n",
    "    layers.MaxPooling2D((2,2)), #First max pooling layer with pool size 2x2\n",
    "    layers.Conv2D(filters=64, kernel_size=(3,3), activation='relu'), #Second convolutional layer with 64 filters and kernel size 3x3\n",
    "    layers.MaxPooling2D((2,2)), #Second max pooling layer with pool size 2x2\n",
    "\n",
    "    #dense\n",
    "    layers.Flatten(), \n",
    "    layers.Dense(128, activation='relu'), #Hidden layer with 3000 neurons\n",
    "    layers.Dense(10, activation='softmax') #Output layer with 10 neurons for 10 classes\n",
    "])\n"
   ]
  },
  {
   "cell_type": "code",
   "execution_count": 37,
   "id": "209d7ec5",
   "metadata": {},
   "outputs": [],
   "source": [
    "cnn.compile(optimizer='adam',\n",
    "            loss='sparse_categorical_crossentropy',\n",
    "            metrics=['accuracy']) #Compile the model with Adam optimizer and sparse categorical crossentropy loss function\n"
   ]
  },
  {
   "cell_type": "code",
   "execution_count": 38,
   "id": "bad39e86",
   "metadata": {},
   "outputs": [
    {
     "name": "stdout",
     "output_type": "stream",
     "text": [
      "Epoch 1/10\n",
      "\u001b[1m1563/1563\u001b[0m \u001b[32m━━━━━━━━━━━━━━━━━━━━\u001b[0m\u001b[37m\u001b[0m \u001b[1m19s\u001b[0m 12ms/step - accuracy: 0.5010 - loss: 1.3890\n",
      "Epoch 2/10\n",
      "\u001b[1m1563/1563\u001b[0m \u001b[32m━━━━━━━━━━━━━━━━━━━━\u001b[0m\u001b[37m\u001b[0m \u001b[1m17s\u001b[0m 11ms/step - accuracy: 0.6367 - loss: 1.0437\n",
      "Epoch 3/10\n",
      "\u001b[1m1563/1563\u001b[0m \u001b[32m━━━━━━━━━━━━━━━━━━━━\u001b[0m\u001b[37m\u001b[0m \u001b[1m17s\u001b[0m 11ms/step - accuracy: 0.6858 - loss: 0.9022\n",
      "Epoch 4/10\n",
      "\u001b[1m1563/1563\u001b[0m \u001b[32m━━━━━━━━━━━━━━━━━━━━\u001b[0m\u001b[37m\u001b[0m \u001b[1m17s\u001b[0m 11ms/step - accuracy: 0.7221 - loss: 0.7978\n",
      "Epoch 5/10\n",
      "\u001b[1m1563/1563\u001b[0m \u001b[32m━━━━━━━━━━━━━━━━━━━━\u001b[0m\u001b[37m\u001b[0m \u001b[1m16s\u001b[0m 10ms/step - accuracy: 0.7517 - loss: 0.7114\n",
      "Epoch 6/10\n",
      "\u001b[1m1563/1563\u001b[0m \u001b[32m━━━━━━━━━━━━━━━━━━━━\u001b[0m\u001b[37m\u001b[0m \u001b[1m18s\u001b[0m 12ms/step - accuracy: 0.7790 - loss: 0.6336\n",
      "Epoch 7/10\n",
      "\u001b[1m1563/1563\u001b[0m \u001b[32m━━━━━━━━━━━━━━━━━━━━\u001b[0m\u001b[37m\u001b[0m \u001b[1m18s\u001b[0m 12ms/step - accuracy: 0.8049 - loss: 0.5579\n",
      "Epoch 8/10\n",
      "\u001b[1m1563/1563\u001b[0m \u001b[32m━━━━━━━━━━━━━━━━━━━━\u001b[0m\u001b[37m\u001b[0m \u001b[1m19s\u001b[0m 12ms/step - accuracy: 0.8271 - loss: 0.4922\n",
      "Epoch 9/10\n",
      "\u001b[1m1563/1563\u001b[0m \u001b[32m━━━━━━━━━━━━━━━━━━━━\u001b[0m\u001b[37m\u001b[0m \u001b[1m17s\u001b[0m 11ms/step - accuracy: 0.8477 - loss: 0.4318\n",
      "Epoch 10/10\n",
      "\u001b[1m1563/1563\u001b[0m \u001b[32m━━━━━━━━━━━━━━━━━━━━\u001b[0m\u001b[37m\u001b[0m \u001b[1m18s\u001b[0m 11ms/step - accuracy: 0.8683 - loss: 0.3742\n"
     ]
    },
    {
     "data": {
      "text/plain": [
       "<keras.src.callbacks.history.History at 0x2094f8fdf70>"
      ]
     },
     "execution_count": 38,
     "metadata": {},
     "output_type": "execute_result"
    }
   ],
   "source": [
    "cnn.fit(X_train, y_train, epochs=10) #Model training"
   ]
  },
  {
   "cell_type": "code",
   "execution_count": 39,
   "id": "b4821c6b",
   "metadata": {},
   "outputs": [
    {
     "name": "stdout",
     "output_type": "stream",
     "text": [
      "\u001b[1m313/313\u001b[0m \u001b[32m━━━━━━━━━━━━━━━━━━━━\u001b[0m\u001b[37m\u001b[0m \u001b[1m2s\u001b[0m 5ms/step - accuracy: 0.6899 - loss: 1.1120\n"
     ]
    },
    {
     "data": {
      "text/plain": [
       "[1.111983299255371, 0.6898999810218811]"
      ]
     },
     "execution_count": 39,
     "metadata": {},
     "output_type": "execute_result"
    }
   ],
   "source": [
    "cnn.evaluate(X_test, y_test) #Model evaluation on test dataset"
   ]
  },
  {
   "cell_type": "code",
   "execution_count": 40,
   "id": "7bd4faf5",
   "metadata": {},
   "outputs": [
    {
     "data": {
      "text/plain": [
       "array([3, 8, 8, 0, 6], dtype=uint8)"
      ]
     },
     "execution_count": 40,
     "metadata": {},
     "output_type": "execute_result"
    }
   ],
   "source": [
    "y_test = y_test.reshape(-1,) #Reshape labels to 1D array\n",
    "y_test[:5] #First 5 labels of test dataset after reshaping"
   ]
  },
  {
   "cell_type": "code",
   "execution_count": 41,
   "id": "d91d0fcf",
   "metadata": {},
   "outputs": [
    {
     "data": {
      "image/png": "[encoded data removed]",
      "text/plain": [
       "<Figure size 640x480 with 1 Axes>"
      ]
     },
     "metadata": {},
     "output_type": "display_data"
    }
   ],
   "source": [
    "plot_sample(2)"
   ]
  },
  {
   "cell_type": "code",
   "execution_count": 42,
   "id": "f01f5e1c",
   "metadata": {},
   "outputs": [
    {
     "name": "stdout",
     "output_type": "stream",
     "text": [
      "\u001b[1m313/313\u001b[0m \u001b[32m━━━━━━━━━━━━━━━━━━━━\u001b[0m\u001b[37m\u001b[0m \u001b[1m1s\u001b[0m 4ms/step\n"
     ]
    },
    {
     "data": {
      "text/plain": [
       "array([[5.13728010e-04, 2.20762613e-05, 1.03844475e-04, 8.71197760e-01,\n",
       "        1.74557534e-03, 1.12424985e-01, 1.31036453e-02, 4.79500188e-04,\n",
       "        4.08578257e-04, 3.79066876e-07],\n",
       "       [4.91797458e-04, 5.64090500e-04, 1.54249093e-07, 4.91145968e-09,\n",
       "        4.50505293e-11, 9.96019933e-12, 2.79964329e-10, 4.43767939e-11,\n",
       "        9.98320997e-01, 6.23067550e-04],\n",
       "       [9.84160751e-02, 1.17012642e-01, 1.54089741e-02, 9.28737521e-02,\n",
       "        2.37810407e-02, 6.33234205e-03, 1.18890044e-03, 6.60833577e-03,\n",
       "        5.03622770e-01, 1.34755164e-01],\n",
       "       [5.72683454e-01, 1.32457949e-02, 1.05784893e-01, 1.01923500e-03,\n",
       "        9.62666124e-02, 4.80466815e-06, 3.85087469e-06, 1.71589691e-05,\n",
       "        2.10974053e-01, 1.41868483e-07],\n",
       "       [2.67661449e-09, 8.48699884e-08, 2.48236731e-02, 8.21009800e-02,\n",
       "        1.31842002e-01, 2.37114588e-03, 7.58857906e-01, 3.93262809e-07,\n",
       "        2.37715358e-06, 1.46738932e-06]], dtype=float32)"
      ]
     },
     "execution_count": 42,
     "metadata": {},
     "output_type": "execute_result"
    }
   ],
   "source": [
    "y_pred = cnn.predict(X_test) #Predict the labels for test dataset\n",
    "y_pred[:5]"
   ]
  },
  {
   "cell_type": "code",
   "execution_count": 45,
   "id": "68194743",
   "metadata": {},
   "outputs": [],
   "source": [
    "y_classes = [np.argmax(element) for element in y_pred] #Convert predictions to class labels"
   ]
  },
  {
   "cell_type": "code",
   "execution_count": 48,
   "id": "2fd5ab0a",
   "metadata": {},
   "outputs": [
    {
     "data": {
      "text/plain": [
       "[3, 8, 8, 0, 6, 6, 1, 6, 3, 1, 0, 9, 5, 7, 9]"
      ]
     },
     "execution_count": 48,
     "metadata": {},
     "output_type": "execute_result"
    }
   ],
   "source": [
    "y_classes[:15]"
   ]
  },
  {
   "cell_type": "code",
   "execution_count": 49,
   "id": "9a728c45",
   "metadata": {},
   "outputs": [
    {
     "data": {
      "text/plain": [
       "array([3, 8, 8, 0, 6, 6, 1, 6, 3, 1, 0, 9, 5, 7, 9], dtype=uint8)"
      ]
     },
     "execution_count": 49,
     "metadata": {},
     "output_type": "execute_result"
    }
   ],
   "source": [
    "y_test[:15]"
   ]
  },
  {
   "cell_type": "code",
   "execution_count": 54,
   "id": "efe45676",
   "metadata": {},
   "outputs": [
    {
     "data": {
      "text/plain": [
       "<matplotlib.image.AxesImage at 0x2095c3fb3b0>"
      ]
     },
     "execution_count": 54,
     "metadata": {},
     "output_type": "execute_result"
    },
    {
     "data": {
      "image/png": "[encoded data removed]",
      "text/plain": [
       "<Figure size 640x480 with 1 Axes>"
      ]
     },
     "metadata": {},
     "output_type": "display_data"
    }
   ],
   "source": [
    "plt.imshow(X_test[15])"
   ]
  },
  {
   "cell_type": "code",
   "execution_count": 53,
   "id": "e44a1a85",
   "metadata": {},
   "outputs": [
    {
     "data": {
      "text/plain": [
       "'ship'"
      ]
     },
     "execution_count": 53,
     "metadata": {},
     "output_type": "execute_result"
    }
   ],
   "source": [
    "classes[y_test[15]]"
   ]
  },
  {
   "cell_type": "code",
   "execution_count": 51,
   "id": "b1dbfc15",
   "metadata": {},
   "outputs": [
    {
     "data": {
      "text/plain": [
       "'ship'"
      ]
     },
     "execution_count": 51,
     "metadata": {},
     "output_type": "execute_result"
    }
   ],
   "source": [
    "classes[y_classes[15]]"
   ]
  },
  {
   "cell_type": "code",
   "execution_count": 55,
   "id": "b6acd615",
   "metadata": {},
   "outputs": [
    {
     "name": "stdout",
     "output_type": "stream",
     "text": [
      "Classification Report: \n",
      "               precision    recall  f1-score   support\n",
      "\n",
      "           0       0.73      0.75      0.74      1000\n",
      "           1       0.86      0.74      0.80      1000\n",
      "           2       0.58      0.61      0.59      1000\n",
      "           3       0.47      0.54      0.50      1000\n",
      "           4       0.68      0.60      0.64      1000\n",
      "           5       0.57      0.60      0.58      1000\n",
      "           6       0.80      0.72      0.76      1000\n",
      "           7       0.76      0.71      0.74      1000\n",
      "           8       0.82      0.78      0.80      1000\n",
      "           9       0.72      0.85      0.78      1000\n",
      "\n",
      "    accuracy                           0.69     10000\n",
      "   macro avg       0.70      0.69      0.69     10000\n",
      "weighted avg       0.70      0.69      0.69     10000\n",
      "\n"
     ]
    }
   ],
   "source": [
    "print(\"Classification Report: \\n\", classification_report(y_test, y_classes)) #Print classification report"
   ]
  }
 ],
 "metadata": {
  "kernelspec": {
   "display_name": "base",
   "language": "python",
   "name": "python3"
  },
  "language_info": {
   "codemirror_mode": {
    "name": "ipython",
    "version": 3
   },
   "file_extension": ".py",
   "mimetype": "text/x-python",
   "name": "python",
   "nbconvert_exporter": "python",
   "pygments_lexer": "ipython3",
   "version": "3.12.7"
  }
 },
 "nbformat": 4,
 "nbformat_minor": 5
}
